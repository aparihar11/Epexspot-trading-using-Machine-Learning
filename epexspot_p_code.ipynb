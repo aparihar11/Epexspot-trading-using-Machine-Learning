{
 "cells": [
  {
   "cell_type": "code",
   "execution_count": 8,
   "metadata": {},
   "outputs": [],
   "source": [
    "import pandas as pd\n",
    "import holidays as holi"
   ]
  },
  {
   "cell_type": "code",
   "execution_count": 5,
   "metadata": {},
   "outputs": [],
   "source": [
    "basetable=pd.read_csv(\"basetable.csv\") "
   ]
  },
  {
   "cell_type": "code",
   "execution_count": 16,
   "metadata": {},
   "outputs": [
    {
     "data": {
      "text/html": [
       "<div>\n",
       "<style scoped>\n",
       "    .dataframe tbody tr th:only-of-type {\n",
       "        vertical-align: middle;\n",
       "    }\n",
       "\n",
       "    .dataframe tbody tr th {\n",
       "        vertical-align: top;\n",
       "    }\n",
       "\n",
       "    .dataframe thead th {\n",
       "        text-align: right;\n",
       "    }\n",
       "</style>\n",
       "<table border=\"1\" class=\"dataframe\">\n",
       "  <thead>\n",
       "    <tr style=\"text-align: right;\">\n",
       "      <th></th>\n",
       "      <th>Unnamed: 0</th>\n",
       "      <th>DateTime</th>\n",
       "      <th>Last</th>\n",
       "      <th>PRCP</th>\n",
       "      <th>TMAX</th>\n",
       "      <th>TMIN</th>\n",
       "      <th>TVAR</th>\n",
       "      <th>TAVG</th>\n",
       "      <th>TDIFF</th>\n",
       "      <th>Significant</th>\n",
       "      <th>TPRED</th>\n",
       "    </tr>\n",
       "  </thead>\n",
       "  <tbody>\n",
       "    <tr>\n",
       "      <th>0</th>\n",
       "      <td>1</td>\n",
       "      <td>01-01-14 0:00</td>\n",
       "      <td>21.0</td>\n",
       "      <td>0.18</td>\n",
       "      <td>10.56</td>\n",
       "      <td>6.11</td>\n",
       "      <td>4.45</td>\n",
       "      <td>8.33</td>\n",
       "      <td>0.0</td>\n",
       "      <td>0.0</td>\n",
       "      <td>6.11</td>\n",
       "    </tr>\n",
       "    <tr>\n",
       "      <th>1</th>\n",
       "      <td>2</td>\n",
       "      <td>01-01-14 1:00</td>\n",
       "      <td>9.0</td>\n",
       "      <td>0.18</td>\n",
       "      <td>10.56</td>\n",
       "      <td>6.11</td>\n",
       "      <td>4.45</td>\n",
       "      <td>8.33</td>\n",
       "      <td>0.0</td>\n",
       "      <td>0.0</td>\n",
       "      <td>6.11</td>\n",
       "    </tr>\n",
       "    <tr>\n",
       "      <th>2</th>\n",
       "      <td>3</td>\n",
       "      <td>01-01-14 2:00</td>\n",
       "      <td>3.0</td>\n",
       "      <td>0.18</td>\n",
       "      <td>10.56</td>\n",
       "      <td>6.11</td>\n",
       "      <td>4.45</td>\n",
       "      <td>8.33</td>\n",
       "      <td>0.0</td>\n",
       "      <td>0.0</td>\n",
       "      <td>6.11</td>\n",
       "    </tr>\n",
       "    <tr>\n",
       "      <th>3</th>\n",
       "      <td>4</td>\n",
       "      <td>01-01-14 3:00</td>\n",
       "      <td>5.0</td>\n",
       "      <td>0.18</td>\n",
       "      <td>10.56</td>\n",
       "      <td>6.11</td>\n",
       "      <td>4.45</td>\n",
       "      <td>8.33</td>\n",
       "      <td>0.0</td>\n",
       "      <td>0.0</td>\n",
       "      <td>6.11</td>\n",
       "    </tr>\n",
       "    <tr>\n",
       "      <th>4</th>\n",
       "      <td>5</td>\n",
       "      <td>01-01-14 4:00</td>\n",
       "      <td>11.0</td>\n",
       "      <td>0.18</td>\n",
       "      <td>10.56</td>\n",
       "      <td>6.11</td>\n",
       "      <td>4.45</td>\n",
       "      <td>8.33</td>\n",
       "      <td>0.0</td>\n",
       "      <td>0.0</td>\n",
       "      <td>6.11</td>\n",
       "    </tr>\n",
       "  </tbody>\n",
       "</table>\n",
       "</div>"
      ],
      "text/plain": [
       "   Unnamed: 0       DateTime  Last  PRCP   TMAX  TMIN  TVAR  TAVG  TDIFF  \\\n",
       "0           1  01-01-14 0:00  21.0  0.18  10.56  6.11  4.45  8.33    0.0   \n",
       "1           2  01-01-14 1:00   9.0  0.18  10.56  6.11  4.45  8.33    0.0   \n",
       "2           3  01-01-14 2:00   3.0  0.18  10.56  6.11  4.45  8.33    0.0   \n",
       "3           4  01-01-14 3:00   5.0  0.18  10.56  6.11  4.45  8.33    0.0   \n",
       "4           5  01-01-14 4:00  11.0  0.18  10.56  6.11  4.45  8.33    0.0   \n",
       "\n",
       "   Significant  TPRED  \n",
       "0          0.0   6.11  \n",
       "1          0.0   6.11  \n",
       "2          0.0   6.11  \n",
       "3          0.0   6.11  \n",
       "4          0.0   6.11  "
      ]
     },
     "execution_count": 16,
     "metadata": {},
     "output_type": "execute_result"
    }
   ],
   "source": [
    "basetable.head()"
   ]
  },
  {
   "cell_type": "code",
   "execution_count": 21,
   "metadata": {},
   "outputs": [],
   "source": [
    "\n",
    "basetable['DateTime']=pd.to_datetime(basetable['DateTime'])"
   ]
  },
  {
   "cell_type": "code",
   "execution_count": 8,
   "metadata": {},
   "outputs": [],
   "source": [
    "from workalendar.europe import France"
   ]
  },
  {
   "cell_type": "code",
   "execution_count": 9,
   "metadata": {},
   "outputs": [],
   "source": [
    "cal = France()"
   ]
  },
  {
   "cell_type": "code",
   "execution_count": 13,
   "metadata": {},
   "outputs": [
    {
     "data": {
      "text/plain": [
       "[(datetime.date(2012, 1, 1), 'New year'),\n",
       " (datetime.date(2012, 4, 9), 'Easter Monday'),\n",
       " (datetime.date(2012, 5, 1), 'Labour Day'),\n",
       " (datetime.date(2012, 5, 8), 'Victory in Europe Day'),\n",
       " (datetime.date(2012, 5, 17), 'Ascension Thursday'),\n",
       " (datetime.date(2012, 5, 28), 'Whit Monday'),\n",
       " (datetime.date(2012, 7, 14), 'Bastille Day'),\n",
       " (datetime.date(2012, 8, 15), 'Assumption of Mary to Heaven'),\n",
       " (datetime.date(2012, 11, 1), 'All Saints Day'),\n",
       " (datetime.date(2012, 11, 11), 'Armistice Day'),\n",
       " (datetime.date(2012, 12, 25), 'Christmas Day')]"
      ]
     },
     "execution_count": 13,
     "metadata": {},
     "output_type": "execute_result"
    }
   ],
   "source": [
    "20=cal.holidays(2012)\n",
    "test"
   ]
  },
  {
   "cell_type": "code",
   "execution_count": 11,
   "metadata": {},
   "outputs": [
    {
     "name": "stdout",
     "output_type": "stream",
     "text": [
      "(datetime.date(2018, 1, 1), \"Jour de l'an\")\n",
      "(datetime.date(2018, 5, 1), 'Fête du Travail')\n",
      "(datetime.date(2018, 5, 8), 'Armistice 1945')\n",
      "(datetime.date(2018, 7, 14), 'Fête nationale')\n",
      "(datetime.date(2018, 11, 11), 'Armistice 1918')\n",
      "(datetime.date(2018, 4, 2), 'Lundi de Pâques')\n",
      "(datetime.date(2018, 5, 21), 'Lundi de Pentecôte')\n",
      "(datetime.date(2018, 5, 10), 'Ascension')\n",
      "(datetime.date(2018, 8, 15), 'Assomption')\n",
      "(datetime.date(2018, 11, 1), 'Toussaint')\n",
      "(datetime.date(2018, 12, 25), 'Noël')\n"
     ]
    }
   ],
   "source": [
    "for ptr in holi.FRA(years = 2018).items(): \n",
    "    print(ptr) "
   ]
  },
  {
   "cell_type": "code",
   "execution_count": null,
   "metadata": {},
   "outputs": [],
   "source": []
  }
 ],
 "metadata": {
  "kernelspec": {
   "display_name": "Python 3",
   "language": "python",
   "name": "python3"
  },
  "language_info": {
   "codemirror_mode": {
    "name": "ipython",
    "version": 3
   },
   "file_extension": ".py",
   "mimetype": "text/x-python",
   "name": "python",
   "nbconvert_exporter": "python",
   "pygments_lexer": "ipython3",
   "version": "3.6.5"
  }
 },
 "nbformat": 4,
 "nbformat_minor": 2
}
